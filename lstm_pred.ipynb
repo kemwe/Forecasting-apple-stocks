{
 "cells": [
  {
   "cell_type": "markdown",
   "metadata": {},
   "source": [
    "## Forecasting Apple closing  prices using LSTM"
   ]
  },
  {
   "cell_type": "code",
   "execution_count": 2,
   "metadata": {},
   "outputs": [],
   "source": [
    "#Importing the necessary libraries\n",
    "import pandas as pd\n",
    "import numpy as np\n",
    "import matplotlib.pyplot as plt\n",
    "import seaborn as sns \n",
    "%matplotlib inline\n",
    "sns.set_style('whitegrid')"
   ]
  },
  {
   "cell_type": "code",
   "execution_count": 3,
   "metadata": {},
   "outputs": [],
   "source": [
    "#importing apple stock dataset\n",
    "data=pd.read_csv('applestock.csv')"
   ]
  },
  {
   "cell_type": "code",
   "execution_count": 4,
   "metadata": {},
   "outputs": [
    {
     "data": {
      "text/html": [
       "<div>\n",
       "<style scoped>\n",
       "    .dataframe tbody tr th:only-of-type {\n",
       "        vertical-align: middle;\n",
       "    }\n",
       "\n",
       "    .dataframe tbody tr th {\n",
       "        vertical-align: top;\n",
       "    }\n",
       "\n",
       "    .dataframe thead th {\n",
       "        text-align: right;\n",
       "    }\n",
       "</style>\n",
       "<table border=\"1\" class=\"dataframe\">\n",
       "  <thead>\n",
       "    <tr style=\"text-align: right;\">\n",
       "      <th></th>\n",
       "      <th>Date</th>\n",
       "      <th>Close/Last</th>\n",
       "      <th>Volume</th>\n",
       "      <th>Open</th>\n",
       "      <th>High</th>\n",
       "      <th>Low</th>\n",
       "    </tr>\n",
       "  </thead>\n",
       "  <tbody>\n",
       "    <tr>\n",
       "      <th>0</th>\n",
       "      <td>12/08/2020</td>\n",
       "      <td>$124.38</td>\n",
       "      <td>82225510</td>\n",
       "      <td>$124.37</td>\n",
       "      <td>$124.98</td>\n",
       "      <td>$123.09</td>\n",
       "    </tr>\n",
       "    <tr>\n",
       "      <th>1</th>\n",
       "      <td>12/07/2020</td>\n",
       "      <td>$123.75</td>\n",
       "      <td>86711990</td>\n",
       "      <td>$122.31</td>\n",
       "      <td>$124.57</td>\n",
       "      <td>$122.25</td>\n",
       "    </tr>\n",
       "    <tr>\n",
       "      <th>2</th>\n",
       "      <td>12/04/2020</td>\n",
       "      <td>$122.25</td>\n",
       "      <td>78260420</td>\n",
       "      <td>$122.6</td>\n",
       "      <td>$122.8608</td>\n",
       "      <td>$121.52</td>\n",
       "    </tr>\n",
       "    <tr>\n",
       "      <th>3</th>\n",
       "      <td>12/03/2020</td>\n",
       "      <td>$122.94</td>\n",
       "      <td>78967630</td>\n",
       "      <td>$123.52</td>\n",
       "      <td>$123.78</td>\n",
       "      <td>$122.21</td>\n",
       "    </tr>\n",
       "    <tr>\n",
       "      <th>4</th>\n",
       "      <td>12/02/2020</td>\n",
       "      <td>$123.08</td>\n",
       "      <td>89004200</td>\n",
       "      <td>$122.02</td>\n",
       "      <td>$123.37</td>\n",
       "      <td>$120.89</td>\n",
       "    </tr>\n",
       "  </tbody>\n",
       "</table>\n",
       "</div>"
      ],
      "text/plain": [
       "         Date  Close/Last    Volume      Open        High       Low\n",
       "0  12/08/2020     $124.38  82225510   $124.37     $124.98   $123.09\n",
       "1  12/07/2020     $123.75  86711990   $122.31     $124.57   $122.25\n",
       "2  12/04/2020     $122.25  78260420    $122.6   $122.8608   $121.52\n",
       "3  12/03/2020     $122.94  78967630   $123.52     $123.78   $122.21\n",
       "4  12/02/2020     $123.08  89004200   $122.02     $123.37   $120.89"
      ]
     },
     "execution_count": 4,
     "metadata": {},
     "output_type": "execute_result"
    }
   ],
   "source": [
    "#checking top 5 variables\n",
    "data.head()"
   ]
  },
  {
   "cell_type": "code",
   "execution_count": 5,
   "metadata": {},
   "outputs": [
    {
     "name": "stdout",
     "output_type": "stream",
     "text": [
      "<class 'pandas.core.frame.DataFrame'>\n",
      "RangeIndex: 2517 entries, 0 to 2516\n",
      "Data columns (total 6 columns):\n",
      " #   Column       Non-Null Count  Dtype \n",
      "---  ------       --------------  ----- \n",
      " 0   Date         2517 non-null   object\n",
      " 1    Close/Last  2517 non-null   object\n",
      " 2    Volume      2517 non-null   int64 \n",
      " 3    Open        2517 non-null   object\n",
      " 4    High        2517 non-null   object\n",
      " 5    Low         2517 non-null   object\n",
      "dtypes: int64(1), object(5)\n",
      "memory usage: 118.1+ KB\n"
     ]
    }
   ],
   "source": [
    "#checking dataset info\n",
    "data.info()"
   ]
  },
  {
   "cell_type": "code",
   "execution_count": 6,
   "metadata": {},
   "outputs": [],
   "source": [
    "# Renaming the columns\n",
    "data.rename(columns={' Close/Last':'Close',' Volume':'Volume',' Open':'Open',' High':'High',' Low':'Low'},inplace=True)"
   ]
  },
  {
   "cell_type": "code",
   "execution_count": 7,
   "metadata": {},
   "outputs": [
    {
     "data": {
      "text/html": [
       "<div>\n",
       "<style scoped>\n",
       "    .dataframe tbody tr th:only-of-type {\n",
       "        vertical-align: middle;\n",
       "    }\n",
       "\n",
       "    .dataframe tbody tr th {\n",
       "        vertical-align: top;\n",
       "    }\n",
       "\n",
       "    .dataframe thead th {\n",
       "        text-align: right;\n",
       "    }\n",
       "</style>\n",
       "<table border=\"1\" class=\"dataframe\">\n",
       "  <thead>\n",
       "    <tr style=\"text-align: right;\">\n",
       "      <th></th>\n",
       "      <th>Date</th>\n",
       "      <th>Close</th>\n",
       "      <th>Volume</th>\n",
       "      <th>Open</th>\n",
       "      <th>High</th>\n",
       "      <th>Low</th>\n",
       "    </tr>\n",
       "  </thead>\n",
       "  <tbody>\n",
       "    <tr>\n",
       "      <th>0</th>\n",
       "      <td>12/08/2020</td>\n",
       "      <td>$124.38</td>\n",
       "      <td>82225510</td>\n",
       "      <td>$124.37</td>\n",
       "      <td>$124.98</td>\n",
       "      <td>$123.09</td>\n",
       "    </tr>\n",
       "    <tr>\n",
       "      <th>1</th>\n",
       "      <td>12/07/2020</td>\n",
       "      <td>$123.75</td>\n",
       "      <td>86711990</td>\n",
       "      <td>$122.31</td>\n",
       "      <td>$124.57</td>\n",
       "      <td>$122.25</td>\n",
       "    </tr>\n",
       "    <tr>\n",
       "      <th>2</th>\n",
       "      <td>12/04/2020</td>\n",
       "      <td>$122.25</td>\n",
       "      <td>78260420</td>\n",
       "      <td>$122.6</td>\n",
       "      <td>$122.8608</td>\n",
       "      <td>$121.52</td>\n",
       "    </tr>\n",
       "    <tr>\n",
       "      <th>3</th>\n",
       "      <td>12/03/2020</td>\n",
       "      <td>$122.94</td>\n",
       "      <td>78967630</td>\n",
       "      <td>$123.52</td>\n",
       "      <td>$123.78</td>\n",
       "      <td>$122.21</td>\n",
       "    </tr>\n",
       "    <tr>\n",
       "      <th>4</th>\n",
       "      <td>12/02/2020</td>\n",
       "      <td>$123.08</td>\n",
       "      <td>89004200</td>\n",
       "      <td>$122.02</td>\n",
       "      <td>$123.37</td>\n",
       "      <td>$120.89</td>\n",
       "    </tr>\n",
       "  </tbody>\n",
       "</table>\n",
       "</div>"
      ],
      "text/plain": [
       "         Date     Close    Volume      Open        High       Low\n",
       "0  12/08/2020   $124.38  82225510   $124.37     $124.98   $123.09\n",
       "1  12/07/2020   $123.75  86711990   $122.31     $124.57   $122.25\n",
       "2  12/04/2020   $122.25  78260420    $122.6   $122.8608   $121.52\n",
       "3  12/03/2020   $122.94  78967630   $123.52     $123.78   $122.21\n",
       "4  12/02/2020   $123.08  89004200   $122.02     $123.37   $120.89"
      ]
     },
     "execution_count": 7,
     "metadata": {},
     "output_type": "execute_result"
    }
   ],
   "source": [
    "data.head()"
   ]
  },
  {
   "cell_type": "code",
   "execution_count": 8,
   "metadata": {},
   "outputs": [],
   "source": [
    "#Removing the DOLLAR SIGN ($) in the variables\n",
    "data=data.replace({'\\$':''}, regex = True)\n",
    "    "
   ]
  },
  {
   "cell_type": "code",
   "execution_count": 9,
   "metadata": {},
   "outputs": [
    {
     "data": {
      "text/html": [
       "<div>\n",
       "<style scoped>\n",
       "    .dataframe tbody tr th:only-of-type {\n",
       "        vertical-align: middle;\n",
       "    }\n",
       "\n",
       "    .dataframe tbody tr th {\n",
       "        vertical-align: top;\n",
       "    }\n",
       "\n",
       "    .dataframe thead th {\n",
       "        text-align: right;\n",
       "    }\n",
       "</style>\n",
       "<table border=\"1\" class=\"dataframe\">\n",
       "  <thead>\n",
       "    <tr style=\"text-align: right;\">\n",
       "      <th></th>\n",
       "      <th>Date</th>\n",
       "      <th>Close</th>\n",
       "      <th>Volume</th>\n",
       "      <th>Open</th>\n",
       "      <th>High</th>\n",
       "      <th>Low</th>\n",
       "    </tr>\n",
       "  </thead>\n",
       "  <tbody>\n",
       "    <tr>\n",
       "      <th>0</th>\n",
       "      <td>12/08/2020</td>\n",
       "      <td>124.38</td>\n",
       "      <td>82225510</td>\n",
       "      <td>124.37</td>\n",
       "      <td>124.98</td>\n",
       "      <td>123.09</td>\n",
       "    </tr>\n",
       "    <tr>\n",
       "      <th>1</th>\n",
       "      <td>12/07/2020</td>\n",
       "      <td>123.75</td>\n",
       "      <td>86711990</td>\n",
       "      <td>122.31</td>\n",
       "      <td>124.57</td>\n",
       "      <td>122.25</td>\n",
       "    </tr>\n",
       "    <tr>\n",
       "      <th>2</th>\n",
       "      <td>12/04/2020</td>\n",
       "      <td>122.25</td>\n",
       "      <td>78260420</td>\n",
       "      <td>122.6</td>\n",
       "      <td>122.8608</td>\n",
       "      <td>121.52</td>\n",
       "    </tr>\n",
       "    <tr>\n",
       "      <th>3</th>\n",
       "      <td>12/03/2020</td>\n",
       "      <td>122.94</td>\n",
       "      <td>78967630</td>\n",
       "      <td>123.52</td>\n",
       "      <td>123.78</td>\n",
       "      <td>122.21</td>\n",
       "    </tr>\n",
       "    <tr>\n",
       "      <th>4</th>\n",
       "      <td>12/02/2020</td>\n",
       "      <td>123.08</td>\n",
       "      <td>89004200</td>\n",
       "      <td>122.02</td>\n",
       "      <td>123.37</td>\n",
       "      <td>120.89</td>\n",
       "    </tr>\n",
       "  </tbody>\n",
       "</table>\n",
       "</div>"
      ],
      "text/plain": [
       "         Date    Close    Volume     Open       High      Low\n",
       "0  12/08/2020   124.38  82225510   124.37     124.98   123.09\n",
       "1  12/07/2020   123.75  86711990   122.31     124.57   122.25\n",
       "2  12/04/2020   122.25  78260420    122.6   122.8608   121.52\n",
       "3  12/03/2020   122.94  78967630   123.52     123.78   122.21\n",
       "4  12/02/2020   123.08  89004200   122.02     123.37   120.89"
      ]
     },
     "execution_count": 9,
     "metadata": {},
     "output_type": "execute_result"
    }
   ],
   "source": [
    "#checking if the $ is removed\n",
    "data.head()"
   ]
  },
  {
   "cell_type": "code",
   "execution_count": 10,
   "metadata": {},
   "outputs": [],
   "source": [
    "#changing the datatype in the dataset\n",
    "data=data.astype({'Close':float,'Open':float, 'High':float, 'Low':float})\n",
    "data['Date']=pd.to_datetime(data.Date)"
   ]
  },
  {
   "cell_type": "code",
   "execution_count": 11,
   "metadata": {},
   "outputs": [
    {
     "name": "stdout",
     "output_type": "stream",
     "text": [
      "<class 'pandas.core.frame.DataFrame'>\n",
      "RangeIndex: 2517 entries, 0 to 2516\n",
      "Data columns (total 6 columns):\n",
      " #   Column  Non-Null Count  Dtype         \n",
      "---  ------  --------------  -----         \n",
      " 0   Date    2517 non-null   datetime64[ns]\n",
      " 1   Close   2517 non-null   float64       \n",
      " 2   Volume  2517 non-null   int64         \n",
      " 3   Open    2517 non-null   float64       \n",
      " 4   High    2517 non-null   float64       \n",
      " 5   Low     2517 non-null   float64       \n",
      "dtypes: datetime64[ns](1), float64(4), int64(1)\n",
      "memory usage: 118.1 KB\n"
     ]
    }
   ],
   "source": [
    "data.info()"
   ]
  },
  {
   "cell_type": "code",
   "execution_count": 12,
   "metadata": {},
   "outputs": [
    {
     "data": {
      "text/plain": [
       "Text(0, 0.5, 'Stock Value')"
      ]
     },
     "execution_count": 12,
     "metadata": {},
     "output_type": "execute_result"
    },
    {
     "data": {
      "image/png": "[encoded data removed]",
      "text/plain": [
       "<Figure size 864x576 with 1 Axes>"
      ]
     },
     "metadata": {},
     "output_type": "display_data"
    }
   ],
   "source": [
    "#Plotting the closing value of stocks over 10 years\n",
    "plt.figure(figsize=(12,8))\n",
    "plt.plot(data['Date'],data['Close'])\n",
    "plt.title('Closing price for Apple stocks')\n",
    "plt.xticks(rotation= 45)\n",
    "plt.xlabel('Dates')\n",
    "plt.ylabel('Stock Value')"
   ]
  },
  {
   "cell_type": "code",
   "execution_count": 13,
   "metadata": {},
   "outputs": [
    {
     "data": {
      "text/plain": [
       "(2517, 6)"
      ]
     },
     "execution_count": 13,
     "metadata": {},
     "output_type": "execute_result"
    }
   ],
   "source": [
    "#checking the shape of the dataset\n",
    "data.shape"
   ]
  },
  {
   "cell_type": "code",
   "execution_count": 14,
   "metadata": {},
   "outputs": [],
   "source": [
    "#spliting the dataset into traning and testing\n",
    "train_data=data[:2000]\n",
    "test_data=data[2000:]"
   ]
  },
  {
   "cell_type": "code",
   "execution_count": 15,
   "metadata": {},
   "outputs": [
    {
     "data": {
      "text/plain": [
       "((2000, 6), (517, 6))"
      ]
     },
     "execution_count": 15,
     "metadata": {},
     "output_type": "execute_result"
    }
   ],
   "source": [
    "#checking the dataset for training and testing\n",
    "train_data.shape, test_data.shape"
   ]
  },
  {
   "cell_type": "code",
   "execution_count": 16,
   "metadata": {},
   "outputs": [],
   "source": [
    "#extracting the Closing value\n",
    "#Traning dataset\n",
    "x_train=train_data['Close'].values\n",
    "x_train=x_train.reshape(-1,1)\n",
    "\n",
    "#test data\n",
    "x_test=test_data['Close'].values\n",
    "x_test=x_test.reshape(-1,1)"
   ]
  },
  {
   "cell_type": "code",
   "execution_count": 17,
   "metadata": {},
   "outputs": [
    {
     "data": {
      "text/plain": [
       "((2000, 1), (517, 1))"
      ]
     },
     "execution_count": 17,
     "metadata": {},
     "output_type": "execute_result"
    }
   ],
   "source": [
    "x_train.shape, x_test.shape"
   ]
  },
  {
   "cell_type": "markdown",
   "metadata": {},
   "source": [
    "## Feature scaring"
   ]
  },
  {
   "cell_type": "code",
   "execution_count": 18,
   "metadata": {},
   "outputs": [],
   "source": [
    "#scaling traning data\n",
    "from sklearn.preprocessing import MinMaxScaler\n",
    "scaler=MinMaxScaler(feature_range=(0, 1))\n",
    "scaled_data=scaler.fit_transform(x_train)"
   ]
  },
  {
   "cell_type": "code",
   "execution_count": 19,
   "metadata": {},
   "outputs": [
    {
     "data": {
      "text/plain": [
       "array([[0.91849126],\n",
       "       [0.91325141],\n",
       "       [0.90077558],\n",
       "       [0.90651446],\n",
       "       [0.90767887],\n",
       "       [0.90468467],\n",
       "       [0.87416048],\n",
       "       [0.85370012],\n",
       "       [0.84904248],\n",
       "       [0.84188967],\n",
       "       [0.83091094],\n",
       "       [0.85993804],\n",
       "       [0.87075042],\n",
       "       [0.86567692],\n",
       "       [0.87698834]])"
      ]
     },
     "execution_count": 19,
     "metadata": {},
     "output_type": "execute_result"
    }
   ],
   "source": [
    "scaled_data[0:15]"
   ]
  },
  {
   "cell_type": "code",
   "execution_count": 20,
   "metadata": {},
   "outputs": [],
   "source": [
    "# Creating a data structure with 50 timesteps and 1 output\n",
    "X_train = []\n",
    "y_train = []\n",
    "for i in range(50, 2000):\n",
    "    X_train.append(scaled_data[i-50:i, 0])\n",
    "    y_train.append(scaled_data[i, 0])\n",
    "X_train, y_train = np.array(X_train), np.array(y_train)"
   ]
  },
  {
   "cell_type": "code",
   "execution_count": 21,
   "metadata": {},
   "outputs": [
    {
     "data": {
      "text/plain": [
       "((1950, 50), (1950,))"
      ]
     },
     "execution_count": 21,
     "metadata": {},
     "output_type": "execute_result"
    }
   ],
   "source": [
    "X_train.shape, y_train.shape"
   ]
  },
  {
   "cell_type": "code",
   "execution_count": 22,
   "metadata": {},
   "outputs": [],
   "source": [
    "#reshaping the data to 3D for easy consumption by LTSM model\n",
    "X_train = np.reshape(X_train, (X_train.shape[0], X_train.shape[1], 1))"
   ]
  },
  {
   "cell_type": "code",
   "execution_count": 23,
   "metadata": {},
   "outputs": [
    {
     "data": {
      "text/plain": [
       "(1950, 50, 1)"
      ]
     },
     "execution_count": 23,
     "metadata": {},
     "output_type": "execute_result"
    }
   ],
   "source": [
    "X_train.shape"
   ]
  },
  {
   "cell_type": "markdown",
   "metadata": {},
   "source": [
    "## Building the model "
   ]
  },
  {
   "cell_type": "code",
   "execution_count": 24,
   "metadata": {},
   "outputs": [],
   "source": [
    "#import the Necessary libraries\n",
    "from tensorflow.keras.models import Sequential\n",
    "from tensorflow.keras.layers import Dense,LSTM,Dropout"
   ]
  },
  {
   "cell_type": "code",
   "execution_count": 25,
   "metadata": {},
   "outputs": [],
   "source": [
    "#Creating the model using RELU activation function and dropout regularizer\n",
    "model=Sequential()\n",
    "model.add(LSTM(units=50,return_sequences=True,input_shape=(X_train.shape[1], 1),activation='relu'))\n",
    "model.add(Dropout(0.2))\n",
    "model.add(LSTM(units = 50, return_sequences = True,activation='relu'))\n",
    "model.add(Dropout(0.2))\n",
    "model.add(LSTM(units = 50, return_sequences = True,activation='relu'))\n",
    "model.add(Dropout(0.2))\n",
    "model.add(LSTM(units=50,activation='relu'))\n",
    "model.add(Dropout(0.2))\n",
    "model.add(Dense(1))\n"
   ]
  },
  {
   "cell_type": "code",
   "execution_count": 26,
   "metadata": {},
   "outputs": [],
   "source": [
    "#Compiling the model using ADAM optimizer and Mean Square Error as loss function\n",
    "model.compile(optimizer='adam',loss='mse')"
   ]
  },
  {
   "cell_type": "code",
   "execution_count": 27,
   "metadata": {},
   "outputs": [
    {
     "name": "stdout",
     "output_type": "stream",
     "text": [
      "Model: \"sequential\"\n",
      "_________________________________________________________________\n",
      "Layer (type)                 Output Shape              Param #   \n",
      "=================================================================\n",
      "lstm (LSTM)                  (None, 50, 50)            10400     \n",
      "_________________________________________________________________\n",
      "dropout (Dropout)            (None, 50, 50)            0         \n",
      "_________________________________________________________________\n",
      "lstm_1 (LSTM)                (None, 50, 50)            20200     \n",
      "_________________________________________________________________\n",
      "dropout_1 (Dropout)          (None, 50, 50)            0         \n",
      "_________________________________________________________________\n",
      "lstm_2 (LSTM)                (None, 50, 50)            20200     \n",
      "_________________________________________________________________\n",
      "dropout_2 (Dropout)          (None, 50, 50)            0         \n",
      "_________________________________________________________________\n",
      "lstm_3 (LSTM)                (None, 50)                20200     \n",
      "_________________________________________________________________\n",
      "dropout_3 (Dropout)          (None, 50)                0         \n",
      "_________________________________________________________________\n",
      "dense (Dense)                (None, 1)                 51        \n",
      "=================================================================\n",
      "Total params: 71,051\n",
      "Trainable params: 71,051\n",
      "Non-trainable params: 0\n",
      "_________________________________________________________________\n"
     ]
    }
   ],
   "source": [
    "#summary of the model\n",
    "model.summary()"
   ]
  },
  {
   "cell_type": "code",
   "execution_count": 28,
   "metadata": {},
   "outputs": [
    {
     "name": "stdout",
     "output_type": "stream",
     "text": [
      "Epoch 1/20\n",
      "98/98 [==============================] - 10s 103ms/step - loss: 0.0118\n",
      "Epoch 2/20\n",
      "98/98 [==============================] - 11s 108ms/step - loss: 0.0028\n",
      "Epoch 3/20\n",
      "98/98 [==============================] - 10s 104ms/step - loss: 0.0024\n",
      "Epoch 4/20\n",
      "98/98 [==============================] - 11s 107ms/step - loss: 0.0020\n",
      "Epoch 5/20\n",
      "98/98 [==============================] - 10s 107ms/step - loss: 0.0019\n",
      "Epoch 6/20\n",
      "98/98 [==============================] - 11s 109ms/step - loss: 0.0015\n",
      "Epoch 7/20\n",
      "98/98 [==============================] - 11s 107ms/step - loss: 0.0017\n",
      "Epoch 8/20\n",
      "98/98 [==============================] - 13s 130ms/step - loss: 0.0016\n",
      "Epoch 9/20\n",
      "98/98 [==============================] - 11s 110ms/step - loss: 0.0015\n",
      "Epoch 10/20\n",
      "98/98 [==============================] - 10s 106ms/step - loss: 0.0016\n",
      "Epoch 11/20\n",
      "98/98 [==============================] - 11s 109ms/step - loss: 0.0011\n",
      "Epoch 12/20\n",
      "98/98 [==============================] - 11s 109ms/step - loss: 0.0012\n",
      "Epoch 13/20\n",
      "98/98 [==============================] - 11s 108ms/step - loss: 0.0014\n",
      "Epoch 14/20\n",
      "98/98 [==============================] - 11s 112ms/step - loss: 0.0014\n",
      "Epoch 15/20\n",
      "98/98 [==============================] - 11s 112ms/step - loss: 0.0013\n",
      "Epoch 16/20\n",
      "98/98 [==============================] - 11s 110ms/step - loss: 0.0011\n",
      "Epoch 17/20\n",
      "98/98 [==============================] - 11s 111ms/step - loss: 9.4645e-04\n",
      "Epoch 18/20\n",
      "98/98 [==============================] - 12s 120ms/step - loss: 0.0011\n",
      "Epoch 19/20\n",
      "98/98 [==============================] - 12s 118ms/step - loss: 0.0010\n",
      "Epoch 20/20\n",
      "98/98 [==============================] - 12s 123ms/step - loss: 0.0013\n"
     ]
    },
    {
     "data": {
      "text/plain": [
       "<tensorflow.python.keras.callbacks.History at 0x1b3c5a9dc70>"
      ]
     },
     "execution_count": 28,
     "metadata": {},
     "output_type": "execute_result"
    }
   ],
   "source": [
    "#Training the model\n",
    "model.fit(X_train,y_train,epochs=20,verbose=1,batch_size=20)"
   ]
  },
  {
   "cell_type": "code",
   "execution_count": 29,
   "metadata": {},
   "outputs": [],
   "source": [
    "X_test = []\n",
    "y_test = []\n",
    "for i in range(50, 517):\n",
    "    X_test.append(scaled_data[i-50:i, 0])\n",
    "    y_test.append(scaled_data[i, 0])\n",
    "X_test, y_test = np.array(X_test), np.array(y_test)"
   ]
  },
  {
   "cell_type": "code",
   "execution_count": 30,
   "metadata": {},
   "outputs": [
    {
     "data": {
      "text/plain": [
       "((467, 50), (467,))"
      ]
     },
     "execution_count": 30,
     "metadata": {},
     "output_type": "execute_result"
    }
   ],
   "source": [
    "X_test.shape, y_test.shape"
   ]
  },
  {
   "cell_type": "code",
   "execution_count": 31,
   "metadata": {},
   "outputs": [],
   "source": [
    "#reshaping the data to 3D for easy consumption by LTSM model\n",
    "X_test = np.reshape(X_test, (X_test.shape[0], X_test.shape[1], 1))"
   ]
  },
  {
   "cell_type": "code",
   "execution_count": 32,
   "metadata": {},
   "outputs": [],
   "source": [
    "#predicted data\n",
    "pred_data=model.predict(X_test)\n",
    "#before predicting, use inverse_transform() in the predictions array, because we make predictions using the Scale, so predictions are between 0 and 1.\n",
    "pred_data=scaler.inverse_transform(pred_data)\n",
    "#pred_data.shape"
   ]
  },
  {
   "cell_type": "code",
   "execution_count": 33,
   "metadata": {},
   "outputs": [],
   "source": [
    "#use inverse_tranform \n",
    "y_test=scaler.inverse_transform(y_test.reshape(-1,1))"
   ]
  },
  {
   "cell_type": "code",
   "execution_count": 34,
   "metadata": {},
   "outputs": [
    {
     "data": {
      "text/plain": [
       "((467, 1),\n",
       " array([[114.96],\n",
       "        [112.28],\n",
       "        [108.22],\n",
       "        [107.12],\n",
       "        [111.81],\n",
       "        [110.08],\n",
       "        [106.84],\n",
       "        [110.34],\n",
       "        [112.13],\n",
       "        [115.54]]))"
      ]
     },
     "execution_count": 34,
     "metadata": {},
     "output_type": "execute_result"
    }
   ],
   "source": [
    "y_test.shape, y_test[0:10]"
   ]
  },
  {
   "cell_type": "code",
   "execution_count": 35,
   "metadata": {},
   "outputs": [
    {
     "data": {
      "text/plain": [
       "<matplotlib.legend.Legend at 0x1b3cd8911f0>"
      ]
     },
     "execution_count": 35,
     "metadata": {},
     "output_type": "execute_result"
    },
    {
     "data": {
      "image/png": "[encoded data removed]",
      "text/plain": [
       "<Figure size 720x576 with 1 Axes>"
      ]
     },
     "metadata": {},
     "output_type": "display_data"
    }
   ],
   "source": [
    "#comparing the real values and predicted values \n",
    "plt.figure(figsize=(10,8))\n",
    "plt.plot(y_test, color = 'red', label = 'Apple Stocks closing prices')\n",
    "plt.plot(pred_data, color = 'blue', label = 'Predicted APPLE Stock Prices')\n",
    "plt.title('Closing prices vs Predicted Closing prices')\n",
    "plt.ylabel('Prices')\n",
    "plt.legend()"
   ]
  },
  {
   "cell_type": "code",
   "execution_count": null,
   "metadata": {},
   "outputs": [],
   "source": []
  }
 ],
 "metadata": {
  "kernelspec": {
   "display_name": "Python 3",
   "language": "python",
   "name": "python3"
  },
  "language_info": {
   "codemirror_mode": {
    "name": "ipython",
    "version": 3
   },
   "file_extension": ".py",
   "mimetype": "text/x-python",
   "name": "python",
   "nbconvert_exporter": "python",
   "pygments_lexer": "ipython3",
   "version": "3.8.3"
  }
 },
 "nbformat": 4,
 "nbformat_minor": 4
}
